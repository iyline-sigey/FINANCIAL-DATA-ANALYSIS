{
  "nbformat": 4,
  "nbformat_minor": 0,
  "metadata": {
    "colab": {
      "name": "Moringa_Data-Science_Core_W_2_Independent_Project_2021_06_Iyline_Sigey",
      "provenance": [],
      "collapsed_sections": []
    },
    "kernelspec": {
      "display_name": "Python 3",
      "name": "python3"
    },
    "language_info": {
      "name": "python"
    }
  },
  "cells": [
    {
      "cell_type": "markdown",
      "metadata": {
        "id": "LLP2gNJ2zYOE"
      },
      "source": [
        "**DEFINING THE QUESTION**"
      ]
    },
    {
      "cell_type": "markdown",
      "metadata": {
        "id": "5jEoIGaGfX4O"
      },
      "source": [
        "To figure out how we can predict which individuals are most likely to have or use a bank account."
      ]
    },
    {
      "cell_type": "markdown",
      "metadata": {
        "id": "WqVr-I1kb-jW"
      },
      "source": [
        "**SPECIFYING THE QUESTION**"
      ]
    },
    {
      "cell_type": "markdown",
      "metadata": {
        "id": "kAIfx92-QLkE"
      },
      "source": [
        "1.Which areas has the most individuals with access to bank services?                                                                                                                             \n",
        "2.Which gender has more individuals with a bak account?\n",
        "\n",
        "3.How many people has access to bank services per country?\n"
      ]
    },
    {
      "cell_type": "markdown",
      "metadata": {
        "id": "gGv8tz9ZcZsQ"
      },
      "source": [
        "**DEFINING THE METRIC FOR SUCCESS**"
      ]
    },
    {
      "cell_type": "markdown",
      "metadata": {
        "id": "pf__4SHsfLuq"
      },
      "source": [
        "Coming up with a model which will help in improving financial inclusion."
      ]
    },
    {
      "cell_type": "markdown",
      "metadata": {
        "id": "RzgOLylDctg2"
      },
      "source": [
        "**UNDERSTANDING THE CONTEX**T"
      ]
    },
    {
      "cell_type": "markdown",
      "metadata": {
        "id": "JVJVHTr2UYNk"
      },
      "source": [
        ""
      ]
    },
    {
      "cell_type": "markdown",
      "metadata": {
        "id": "mCebc41MczH9"
      },
      "source": [
        "**RECORDING THE EXPERIMENTAL DESIGN**"
      ]
    },
    {
      "cell_type": "markdown",
      "metadata": {
        "id": "RKlBPiWJc4B3"
      },
      "source": [
        "The process taken for the analysis was;\n",
        "\n",
        "1.Loading the data\n",
        "\n",
        "2.Data cleaning-checking the data,dealing with null values and duplicates,renaming the columns.\n",
        "\n",
        "3.Exploratory analysis;\n",
        "\n",
        "   a.Univariate analysis and visualization\n",
        "\n",
        "   b.Bivariate analysis and visualization\n",
        "\n",
        "   c.Multivariate analysis and visualization\n",
        "\n",
        "   d.Conclusion based on the analysis"
      ]
    },
    {
      "cell_type": "markdown",
      "metadata": {
        "id": "0FCmRqiGV__N"
      },
      "source": [
        "**DATA RELEVANCE**"
      ]
    },
    {
      "cell_type": "markdown",
      "metadata": {
        "id": "PkU-_PIZWEk6"
      },
      "source": [
        "The data provided was correct and had enough information."
      ]
    },
    {
      "cell_type": "markdown",
      "metadata": {
        "id": "gaMZYtL7fHi_"
      },
      "source": [
        "**READING THE DATA**"
      ]
    },
    {
      "cell_type": "code",
      "metadata": {
        "id": "AhpBHuj0dhJF"
      },
      "source": [
        "#Importing the relevant libraries\n",
        "import pandas as pd\n",
        "import numpy as np\n",
        "import seaborn as sns\n",
        "import matplotlib\n",
        "from matplotlib import pyplot as plt"
      ],
      "execution_count": 46,
      "outputs": []
    },
    {
      "cell_type": "code",
      "metadata": {
        "colab": {
          "base_uri": "https://localhost:8080/",
          "height": 378
        },
        "id": "7IY4iMyvfixW",
        "outputId": "6085395a-33b2-4f44-f77c-626aef3d0bf1"
      },
      "source": [
        "#Loading the datasets /content/Financial Dataset - 1.csv\n",
        "#importing the dataset\n",
        "\n",
        "financial_df=pd.read_csv(\"/content/Financial Dataset - 1.csv\")\n",
        "financial_df.head()\n",
        "\n",
        "\n"
      ],
      "execution_count": 47,
      "outputs": [
        {
          "output_type": "execute_result",
          "data": {
            "text/html": [
              "<div>\n",
              "<style scoped>\n",
              "    .dataframe tbody tr th:only-of-type {\n",
              "        vertical-align: middle;\n",
              "    }\n",
              "\n",
              "    .dataframe tbody tr th {\n",
              "        vertical-align: top;\n",
              "    }\n",
              "\n",
              "    .dataframe thead th {\n",
              "        text-align: right;\n",
              "    }\n",
              "</style>\n",
              "<table border=\"1\" class=\"dataframe\">\n",
              "  <thead>\n",
              "    <tr style=\"text-align: right;\">\n",
              "      <th></th>\n",
              "      <th>country</th>\n",
              "      <th>year</th>\n",
              "      <th>uniqueid</th>\n",
              "      <th>Has a Bank account</th>\n",
              "      <th>Type of Location</th>\n",
              "      <th>Cell Phone Access</th>\n",
              "      <th>household_size</th>\n",
              "      <th>Respondent Age</th>\n",
              "      <th>gender_of_respondent</th>\n",
              "      <th>The relathip with head</th>\n",
              "      <th>marital_status</th>\n",
              "      <th>Level of Educuation</th>\n",
              "      <th>Type of Job</th>\n",
              "    </tr>\n",
              "  </thead>\n",
              "  <tbody>\n",
              "    <tr>\n",
              "      <th>0</th>\n",
              "      <td>Kenya</td>\n",
              "      <td>2018</td>\n",
              "      <td>uniqueid_1</td>\n",
              "      <td>Yes</td>\n",
              "      <td>Rural</td>\n",
              "      <td>Yes</td>\n",
              "      <td>3.0</td>\n",
              "      <td>24.0</td>\n",
              "      <td>Female</td>\n",
              "      <td>Spouse</td>\n",
              "      <td>Married/Living together</td>\n",
              "      <td>Secondary education</td>\n",
              "      <td>Self employed</td>\n",
              "    </tr>\n",
              "    <tr>\n",
              "      <th>1</th>\n",
              "      <td>Kenya</td>\n",
              "      <td>2018</td>\n",
              "      <td>uniqueid_2</td>\n",
              "      <td>No</td>\n",
              "      <td>Rural</td>\n",
              "      <td>No</td>\n",
              "      <td>5.0</td>\n",
              "      <td>70.0</td>\n",
              "      <td>Female</td>\n",
              "      <td>Head of Household</td>\n",
              "      <td>Widowed</td>\n",
              "      <td>No formal education</td>\n",
              "      <td>Government Dependent</td>\n",
              "    </tr>\n",
              "    <tr>\n",
              "      <th>2</th>\n",
              "      <td>Kenya</td>\n",
              "      <td>2018</td>\n",
              "      <td>uniqueid_3</td>\n",
              "      <td>Yes</td>\n",
              "      <td>Urban</td>\n",
              "      <td>Yes</td>\n",
              "      <td>5.0</td>\n",
              "      <td>26.0</td>\n",
              "      <td>Male</td>\n",
              "      <td>Other relative</td>\n",
              "      <td>Single/Never Married</td>\n",
              "      <td>Vocational/Specialised training</td>\n",
              "      <td>Self employed</td>\n",
              "    </tr>\n",
              "    <tr>\n",
              "      <th>3</th>\n",
              "      <td>Kenya</td>\n",
              "      <td>2018</td>\n",
              "      <td>uniqueid_4</td>\n",
              "      <td>No</td>\n",
              "      <td>Rural</td>\n",
              "      <td>Yes</td>\n",
              "      <td>5.0</td>\n",
              "      <td>34.0</td>\n",
              "      <td>Female</td>\n",
              "      <td>Head of Household</td>\n",
              "      <td>Married/Living together</td>\n",
              "      <td>Primary education</td>\n",
              "      <td>Formally employed Private</td>\n",
              "    </tr>\n",
              "    <tr>\n",
              "      <th>4</th>\n",
              "      <td>Kenya</td>\n",
              "      <td>2018</td>\n",
              "      <td>uniqueid_5</td>\n",
              "      <td>No</td>\n",
              "      <td>Urban</td>\n",
              "      <td>No</td>\n",
              "      <td>8.0</td>\n",
              "      <td>26.0</td>\n",
              "      <td>Male</td>\n",
              "      <td>Child</td>\n",
              "      <td>Single/Never Married</td>\n",
              "      <td>Primary education</td>\n",
              "      <td>Informally employed</td>\n",
              "    </tr>\n",
              "  </tbody>\n",
              "</table>\n",
              "</div>"
            ],
            "text/plain": [
              "  country  year  ...              Level of Educuation                Type of Job\n",
              "0   Kenya  2018  ...              Secondary education              Self employed\n",
              "1   Kenya  2018  ...              No formal education       Government Dependent\n",
              "2   Kenya  2018  ...  Vocational/Specialised training              Self employed\n",
              "3   Kenya  2018  ...                Primary education  Formally employed Private\n",
              "4   Kenya  2018  ...                Primary education        Informally employed\n",
              "\n",
              "[5 rows x 13 columns]"
            ]
          },
          "metadata": {
            "tags": []
          },
          "execution_count": 47
        }
      ]
    },
    {
      "cell_type": "markdown",
      "metadata": {
        "id": "uG-OQSypdqSu"
      },
      "source": [
        "**CHECKING THE DATA**"
      ]
    },
    {
      "cell_type": "code",
      "metadata": {
        "colab": {
          "base_uri": "https://localhost:8080/",
          "height": 361
        },
        "id": "QJVuJZ0pjUhW",
        "outputId": "39b7d77a-a126-4859-c5a8-e59b4ecd52a0"
      },
      "source": [
        "financial_df.tail()"
      ],
      "execution_count": 48,
      "outputs": [
        {
          "output_type": "execute_result",
          "data": {
            "text/html": [
              "<div>\n",
              "<style scoped>\n",
              "    .dataframe tbody tr th:only-of-type {\n",
              "        vertical-align: middle;\n",
              "    }\n",
              "\n",
              "    .dataframe tbody tr th {\n",
              "        vertical-align: top;\n",
              "    }\n",
              "\n",
              "    .dataframe thead th {\n",
              "        text-align: right;\n",
              "    }\n",
              "</style>\n",
              "<table border=\"1\" class=\"dataframe\">\n",
              "  <thead>\n",
              "    <tr style=\"text-align: right;\">\n",
              "      <th></th>\n",
              "      <th>country</th>\n",
              "      <th>year</th>\n",
              "      <th>uniqueid</th>\n",
              "      <th>Has a Bank account</th>\n",
              "      <th>Type of Location</th>\n",
              "      <th>Cell Phone Access</th>\n",
              "      <th>household_size</th>\n",
              "      <th>Respondent Age</th>\n",
              "      <th>gender_of_respondent</th>\n",
              "      <th>The relathip with head</th>\n",
              "      <th>marital_status</th>\n",
              "      <th>Level of Educuation</th>\n",
              "      <th>Type of Job</th>\n",
              "    </tr>\n",
              "  </thead>\n",
              "  <tbody>\n",
              "    <tr>\n",
              "      <th>23519</th>\n",
              "      <td>Uganda</td>\n",
              "      <td>2018</td>\n",
              "      <td>uniqueid_2113</td>\n",
              "      <td>No</td>\n",
              "      <td>Rural</td>\n",
              "      <td>Yes</td>\n",
              "      <td>4.0</td>\n",
              "      <td>48.0</td>\n",
              "      <td>Female</td>\n",
              "      <td>Head of Household</td>\n",
              "      <td>Divorced/Seperated</td>\n",
              "      <td>No formal education</td>\n",
              "      <td>Other Income</td>\n",
              "    </tr>\n",
              "    <tr>\n",
              "      <th>23520</th>\n",
              "      <td>Uganda</td>\n",
              "      <td>2018</td>\n",
              "      <td>uniqueid_2114</td>\n",
              "      <td>No</td>\n",
              "      <td>Rural</td>\n",
              "      <td>Yes</td>\n",
              "      <td>2.0</td>\n",
              "      <td>27.0</td>\n",
              "      <td>Female</td>\n",
              "      <td>Head of Household</td>\n",
              "      <td>Single/Never Married</td>\n",
              "      <td>Secondary education</td>\n",
              "      <td>Other Income</td>\n",
              "    </tr>\n",
              "    <tr>\n",
              "      <th>23521</th>\n",
              "      <td>Uganda</td>\n",
              "      <td>2018</td>\n",
              "      <td>uniqueid_2115</td>\n",
              "      <td>No</td>\n",
              "      <td>Rural</td>\n",
              "      <td>Yes</td>\n",
              "      <td>5.0</td>\n",
              "      <td>27.0</td>\n",
              "      <td>Female</td>\n",
              "      <td>Parent</td>\n",
              "      <td>Widowed</td>\n",
              "      <td>Primary education</td>\n",
              "      <td>Other Income</td>\n",
              "    </tr>\n",
              "    <tr>\n",
              "      <th>23522</th>\n",
              "      <td>Uganda</td>\n",
              "      <td>2018</td>\n",
              "      <td>uniqueid_2116</td>\n",
              "      <td>No</td>\n",
              "      <td>Urban</td>\n",
              "      <td>Yes</td>\n",
              "      <td>7.0</td>\n",
              "      <td>30.0</td>\n",
              "      <td>Female</td>\n",
              "      <td>Parent</td>\n",
              "      <td>Divorced/Seperated</td>\n",
              "      <td>Secondary education</td>\n",
              "      <td>Self employed</td>\n",
              "    </tr>\n",
              "    <tr>\n",
              "      <th>23523</th>\n",
              "      <td>Uganda</td>\n",
              "      <td>2018</td>\n",
              "      <td>uniqueid_2117</td>\n",
              "      <td>No</td>\n",
              "      <td>Rural</td>\n",
              "      <td>Yes</td>\n",
              "      <td>10.0</td>\n",
              "      <td>20.0</td>\n",
              "      <td>Male</td>\n",
              "      <td>Child</td>\n",
              "      <td>Single/Never Married</td>\n",
              "      <td>Secondary education</td>\n",
              "      <td>No Income</td>\n",
              "    </tr>\n",
              "  </tbody>\n",
              "</table>\n",
              "</div>"
            ],
            "text/plain": [
              "      country  year  ...  Level of Educuation    Type of Job\n",
              "23519  Uganda  2018  ...  No formal education   Other Income\n",
              "23520  Uganda  2018  ...  Secondary education   Other Income\n",
              "23521  Uganda  2018  ...    Primary education   Other Income\n",
              "23522  Uganda  2018  ...  Secondary education  Self employed\n",
              "23523  Uganda  2018  ...  Secondary education      No Income\n",
              "\n",
              "[5 rows x 13 columns]"
            ]
          },
          "metadata": {
            "tags": []
          },
          "execution_count": 48
        }
      ]
    },
    {
      "cell_type": "code",
      "metadata": {
        "colab": {
          "base_uri": "https://localhost:8080/"
        },
        "id": "ANc2BtbbgoGZ",
        "outputId": "739d0035-1171-494f-b955-90e9be1a7a52"
      },
      "source": [
        "#checking the dataset columns\n",
        "financial_df.columns"
      ],
      "execution_count": 49,
      "outputs": [
        {
          "output_type": "execute_result",
          "data": {
            "text/plain": [
              "Index(['country', 'year', 'uniqueid', 'Has a Bank account', 'Type of Location',\n",
              "       'Cell Phone Access', 'household_size', 'Respondent Age',\n",
              "       'gender_of_respondent', 'The relathip with head', 'marital_status',\n",
              "       'Level of Educuation', 'Type of Job'],\n",
              "      dtype='object')"
            ]
          },
          "metadata": {
            "tags": []
          },
          "execution_count": 49
        }
      ]
    },
    {
      "cell_type": "code",
      "metadata": {
        "colab": {
          "base_uri": "https://localhost:8080/"
        },
        "id": "_Q_K2nLK8tv2",
        "outputId": "6fcc01c0-df5a-42c8-c8ac-dfcbad3622c9"
      },
      "source": [
        "financial_df.dtypes"
      ],
      "execution_count": 50,
      "outputs": [
        {
          "output_type": "execute_result",
          "data": {
            "text/plain": [
              "country                    object\n",
              "year                        int64\n",
              "uniqueid                   object\n",
              "Has a Bank account         object\n",
              "Type of Location           object\n",
              "Cell Phone Access          object\n",
              "household_size            float64\n",
              "Respondent Age            float64\n",
              "gender_of_respondent       object\n",
              "The relathip with head     object\n",
              "marital_status             object\n",
              "Level of Educuation        object\n",
              "Type of Job                object\n",
              "dtype: object"
            ]
          },
          "metadata": {
            "tags": []
          },
          "execution_count": 50
        }
      ]
    },
    {
      "cell_type": "code",
      "metadata": {
        "colab": {
          "base_uri": "https://localhost:8080/"
        },
        "id": "JcGseTX2pTJL",
        "outputId": "9febdd32-33f4-4b77-ca12-2959d19c3c3e"
      },
      "source": [
        "#checking the information of the columns\n",
        "financial_df.info()"
      ],
      "execution_count": 51,
      "outputs": [
        {
          "output_type": "stream",
          "text": [
            "<class 'pandas.core.frame.DataFrame'>\n",
            "RangeIndex: 23524 entries, 0 to 23523\n",
            "Data columns (total 13 columns):\n",
            " #   Column                  Non-Null Count  Dtype  \n",
            "---  ------                  --------------  -----  \n",
            " 0   country                 23510 non-null  object \n",
            " 1   year                    23524 non-null  int64  \n",
            " 2   uniqueid                23524 non-null  object \n",
            " 3   Has a Bank account      23488 non-null  object \n",
            " 4   Type of Location        23509 non-null  object \n",
            " 5   Cell Phone Access       23513 non-null  object \n",
            " 6   household_size          23496 non-null  float64\n",
            " 7   Respondent Age          23490 non-null  float64\n",
            " 8   gender_of_respondent    23490 non-null  object \n",
            " 9   The relathip with head  23520 non-null  object \n",
            " 10  marital_status          23492 non-null  object \n",
            " 11  Level of Educuation     23495 non-null  object \n",
            " 12  Type of Job             23494 non-null  object \n",
            "dtypes: float64(2), int64(1), object(10)\n",
            "memory usage: 2.3+ MB\n"
          ],
          "name": "stdout"
        }
      ]
    },
    {
      "cell_type": "code",
      "metadata": {
        "colab": {
          "base_uri": "https://localhost:8080/"
        },
        "id": "RIobqqTPnc75",
        "outputId": "b067b043-3e1a-4356-eb3c-c3cea0d52e10"
      },
      "source": [
        "financial_df.values"
      ],
      "execution_count": 52,
      "outputs": [
        {
          "output_type": "execute_result",
          "data": {
            "text/plain": [
              "array([['Kenya', 2018, 'uniqueid_1', ..., 'Married/Living together',\n",
              "        'Secondary education', 'Self employed'],\n",
              "       ['Kenya', 2018, 'uniqueid_2', ..., 'Widowed',\n",
              "        'No formal education', 'Government Dependent'],\n",
              "       ['Kenya', 2018, 'uniqueid_3', ..., 'Single/Never Married',\n",
              "        'Vocational/Specialised training', 'Self employed'],\n",
              "       ...,\n",
              "       ['Uganda', 2018, 'uniqueid_2115', ..., 'Widowed',\n",
              "        'Primary education', 'Other Income'],\n",
              "       ['Uganda', 2018, 'uniqueid_2116', ..., 'Divorced/Seperated',\n",
              "        'Secondary education', 'Self employed'],\n",
              "       ['Uganda', 2018, 'uniqueid_2117', ..., 'Single/Never Married',\n",
              "        'Secondary education', 'No Income']], dtype=object)"
            ]
          },
          "metadata": {
            "tags": []
          },
          "execution_count": 52
        }
      ]
    },
    {
      "cell_type": "code",
      "metadata": {
        "colab": {
          "base_uri": "https://localhost:8080/"
        },
        "id": "RmG1yzGhna2M",
        "outputId": "ec5238d8-db6e-4dd3-e14a-06bf0a0b2442"
      },
      "source": [
        "#checking the type of our dataset\n",
        "type(financial_df)"
      ],
      "execution_count": 53,
      "outputs": [
        {
          "output_type": "execute_result",
          "data": {
            "text/plain": [
              "pandas.core.frame.DataFrame"
            ]
          },
          "metadata": {
            "tags": []
          },
          "execution_count": 53
        }
      ]
    },
    {
      "cell_type": "code",
      "metadata": {
        "colab": {
          "base_uri": "https://localhost:8080/"
        },
        "id": "JpmKpIVdnMWB",
        "outputId": "23689b47-f45a-4806-ed69-80e7d1f86330"
      },
      "source": [
        "#checking the number of rows and columns in our dataset\n",
        "financial_df.shape"
      ],
      "execution_count": 54,
      "outputs": [
        {
          "output_type": "execute_result",
          "data": {
            "text/plain": [
              "(23524, 13)"
            ]
          },
          "metadata": {
            "tags": []
          },
          "execution_count": 54
        }
      ]
    },
    {
      "cell_type": "code",
      "metadata": {
        "colab": {
          "base_uri": "https://localhost:8080/"
        },
        "id": "mZ8iBgYXoKoW",
        "outputId": "99aa06b0-2203-42f0-bc06-d9e905afd2a0"
      },
      "source": [
        "financial_df.describe"
      ],
      "execution_count": 55,
      "outputs": [
        {
          "output_type": "execute_result",
          "data": {
            "text/plain": [
              "<bound method NDFrame.describe of       country  year  ...              Level of Educuation                Type of Job\n",
              "0       Kenya  2018  ...              Secondary education              Self employed\n",
              "1       Kenya  2018  ...              No formal education       Government Dependent\n",
              "2       Kenya  2018  ...  Vocational/Specialised training              Self employed\n",
              "3       Kenya  2018  ...                Primary education  Formally employed Private\n",
              "4       Kenya  2018  ...                Primary education        Informally employed\n",
              "...       ...   ...  ...                              ...                        ...\n",
              "23519  Uganda  2018  ...              No formal education               Other Income\n",
              "23520  Uganda  2018  ...              Secondary education               Other Income\n",
              "23521  Uganda  2018  ...                Primary education               Other Income\n",
              "23522  Uganda  2018  ...              Secondary education              Self employed\n",
              "23523  Uganda  2018  ...              Secondary education                  No Income\n",
              "\n",
              "[23524 rows x 13 columns]>"
            ]
          },
          "metadata": {
            "tags": []
          },
          "execution_count": 55
        }
      ]
    },
    {
      "cell_type": "markdown",
      "metadata": {
        "id": "Iek6ZYJWy0_Z"
      },
      "source": [
        "**TYDYING THE DATASET**"
      ]
    },
    {
      "cell_type": "code",
      "metadata": {
        "colab": {
          "base_uri": "https://localhost:8080/"
        },
        "id": "5_cQGSFOsDvC",
        "outputId": "410e5349-9a8e-462e-b296-82386d7665f3"
      },
      "source": [
        "financial_df.columns = ['country', 'year',\t'unique_id', 'bank_account',\t'location',\t'cell_phone_access',\t'household_size','respondent_age',\t'respondent_gender',\t'the_relationship_with_head', 'marital_status',\t'level_of_educuation',\t'type_of_Job']\n",
        "financial_df.columns"
      ],
      "execution_count": 56,
      "outputs": [
        {
          "output_type": "execute_result",
          "data": {
            "text/plain": [
              "Index(['country', 'year', 'unique_id', 'bank_account', 'location',\n",
              "       'cell_phone_access', 'household_size', 'respondent_age',\n",
              "       'respondent_gender', 'the_relationship_with_head', 'marital_status',\n",
              "       'level_of_educuation', 'type_of_Job'],\n",
              "      dtype='object')"
            ]
          },
          "metadata": {
            "tags": []
          },
          "execution_count": 56
        }
      ]
    },
    {
      "cell_type": "code",
      "metadata": {
        "colab": {
          "base_uri": "https://localhost:8080/",
          "height": 327
        },
        "id": "W4NhjIr5zSxp",
        "outputId": "f9f552bc-9fff-46f0-a359-b9cd0524ccea"
      },
      "source": [
        "financial_df.head()"
      ],
      "execution_count": 57,
      "outputs": [
        {
          "output_type": "execute_result",
          "data": {
            "text/html": [
              "<div>\n",
              "<style scoped>\n",
              "    .dataframe tbody tr th:only-of-type {\n",
              "        vertical-align: middle;\n",
              "    }\n",
              "\n",
              "    .dataframe tbody tr th {\n",
              "        vertical-align: top;\n",
              "    }\n",
              "\n",
              "    .dataframe thead th {\n",
              "        text-align: right;\n",
              "    }\n",
              "</style>\n",
              "<table border=\"1\" class=\"dataframe\">\n",
              "  <thead>\n",
              "    <tr style=\"text-align: right;\">\n",
              "      <th></th>\n",
              "      <th>country</th>\n",
              "      <th>year</th>\n",
              "      <th>unique_id</th>\n",
              "      <th>bank_account</th>\n",
              "      <th>location</th>\n",
              "      <th>cell_phone_access</th>\n",
              "      <th>household_size</th>\n",
              "      <th>respondent_age</th>\n",
              "      <th>respondent_gender</th>\n",
              "      <th>the_relationship_with_head</th>\n",
              "      <th>marital_status</th>\n",
              "      <th>level_of_educuation</th>\n",
              "      <th>type_of_Job</th>\n",
              "    </tr>\n",
              "  </thead>\n",
              "  <tbody>\n",
              "    <tr>\n",
              "      <th>0</th>\n",
              "      <td>Kenya</td>\n",
              "      <td>2018</td>\n",
              "      <td>uniqueid_1</td>\n",
              "      <td>Yes</td>\n",
              "      <td>Rural</td>\n",
              "      <td>Yes</td>\n",
              "      <td>3.0</td>\n",
              "      <td>24.0</td>\n",
              "      <td>Female</td>\n",
              "      <td>Spouse</td>\n",
              "      <td>Married/Living together</td>\n",
              "      <td>Secondary education</td>\n",
              "      <td>Self employed</td>\n",
              "    </tr>\n",
              "    <tr>\n",
              "      <th>1</th>\n",
              "      <td>Kenya</td>\n",
              "      <td>2018</td>\n",
              "      <td>uniqueid_2</td>\n",
              "      <td>No</td>\n",
              "      <td>Rural</td>\n",
              "      <td>No</td>\n",
              "      <td>5.0</td>\n",
              "      <td>70.0</td>\n",
              "      <td>Female</td>\n",
              "      <td>Head of Household</td>\n",
              "      <td>Widowed</td>\n",
              "      <td>No formal education</td>\n",
              "      <td>Government Dependent</td>\n",
              "    </tr>\n",
              "    <tr>\n",
              "      <th>2</th>\n",
              "      <td>Kenya</td>\n",
              "      <td>2018</td>\n",
              "      <td>uniqueid_3</td>\n",
              "      <td>Yes</td>\n",
              "      <td>Urban</td>\n",
              "      <td>Yes</td>\n",
              "      <td>5.0</td>\n",
              "      <td>26.0</td>\n",
              "      <td>Male</td>\n",
              "      <td>Other relative</td>\n",
              "      <td>Single/Never Married</td>\n",
              "      <td>Vocational/Specialised training</td>\n",
              "      <td>Self employed</td>\n",
              "    </tr>\n",
              "    <tr>\n",
              "      <th>3</th>\n",
              "      <td>Kenya</td>\n",
              "      <td>2018</td>\n",
              "      <td>uniqueid_4</td>\n",
              "      <td>No</td>\n",
              "      <td>Rural</td>\n",
              "      <td>Yes</td>\n",
              "      <td>5.0</td>\n",
              "      <td>34.0</td>\n",
              "      <td>Female</td>\n",
              "      <td>Head of Household</td>\n",
              "      <td>Married/Living together</td>\n",
              "      <td>Primary education</td>\n",
              "      <td>Formally employed Private</td>\n",
              "    </tr>\n",
              "    <tr>\n",
              "      <th>4</th>\n",
              "      <td>Kenya</td>\n",
              "      <td>2018</td>\n",
              "      <td>uniqueid_5</td>\n",
              "      <td>No</td>\n",
              "      <td>Urban</td>\n",
              "      <td>No</td>\n",
              "      <td>8.0</td>\n",
              "      <td>26.0</td>\n",
              "      <td>Male</td>\n",
              "      <td>Child</td>\n",
              "      <td>Single/Never Married</td>\n",
              "      <td>Primary education</td>\n",
              "      <td>Informally employed</td>\n",
              "    </tr>\n",
              "  </tbody>\n",
              "</table>\n",
              "</div>"
            ],
            "text/plain": [
              "  country  year  ...              level_of_educuation                type_of_Job\n",
              "0   Kenya  2018  ...              Secondary education              Self employed\n",
              "1   Kenya  2018  ...              No formal education       Government Dependent\n",
              "2   Kenya  2018  ...  Vocational/Specialised training              Self employed\n",
              "3   Kenya  2018  ...                Primary education  Formally employed Private\n",
              "4   Kenya  2018  ...                Primary education        Informally employed\n",
              "\n",
              "[5 rows x 13 columns]"
            ]
          },
          "metadata": {
            "tags": []
          },
          "execution_count": 57
        }
      ]
    },
    {
      "cell_type": "code",
      "metadata": {
        "colab": {
          "base_uri": "https://localhost:8080/"
        },
        "id": "H8PSFcwYFIo7",
        "outputId": "db0a424c-7945-4eea-933f-fcdf93572d8c"
      },
      "source": [
        "#checking for duplicates\n",
        "\n",
        "financial_df.duplicated()"
      ],
      "execution_count": 58,
      "outputs": [
        {
          "output_type": "execute_result",
          "data": {
            "text/plain": [
              "0        False\n",
              "1        False\n",
              "2        False\n",
              "3        False\n",
              "4        False\n",
              "         ...  \n",
              "23519    False\n",
              "23520    False\n",
              "23521    False\n",
              "23522    False\n",
              "23523    False\n",
              "Length: 23524, dtype: bool"
            ]
          },
          "metadata": {
            "tags": []
          },
          "execution_count": 58
        }
      ]
    },
    {
      "cell_type": "code",
      "metadata": {
        "colab": {
          "base_uri": "https://localhost:8080/",
          "height": 439
        },
        "id": "9NRELzkDGlQf",
        "outputId": "69684fa9-2fab-4d9e-aa21-1347ba77c8d0"
      },
      "source": [
        "#checking for missing values\n",
        "financial_df.isnull()"
      ],
      "execution_count": 59,
      "outputs": [
        {
          "output_type": "execute_result",
          "data": {
            "text/html": [
              "<div>\n",
              "<style scoped>\n",
              "    .dataframe tbody tr th:only-of-type {\n",
              "        vertical-align: middle;\n",
              "    }\n",
              "\n",
              "    .dataframe tbody tr th {\n",
              "        vertical-align: top;\n",
              "    }\n",
              "\n",
              "    .dataframe thead th {\n",
              "        text-align: right;\n",
              "    }\n",
              "</style>\n",
              "<table border=\"1\" class=\"dataframe\">\n",
              "  <thead>\n",
              "    <tr style=\"text-align: right;\">\n",
              "      <th></th>\n",
              "      <th>country</th>\n",
              "      <th>year</th>\n",
              "      <th>unique_id</th>\n",
              "      <th>bank_account</th>\n",
              "      <th>location</th>\n",
              "      <th>cell_phone_access</th>\n",
              "      <th>household_size</th>\n",
              "      <th>respondent_age</th>\n",
              "      <th>respondent_gender</th>\n",
              "      <th>the_relationship_with_head</th>\n",
              "      <th>marital_status</th>\n",
              "      <th>level_of_educuation</th>\n",
              "      <th>type_of_Job</th>\n",
              "    </tr>\n",
              "  </thead>\n",
              "  <tbody>\n",
              "    <tr>\n",
              "      <th>0</th>\n",
              "      <td>False</td>\n",
              "      <td>False</td>\n",
              "      <td>False</td>\n",
              "      <td>False</td>\n",
              "      <td>False</td>\n",
              "      <td>False</td>\n",
              "      <td>False</td>\n",
              "      <td>False</td>\n",
              "      <td>False</td>\n",
              "      <td>False</td>\n",
              "      <td>False</td>\n",
              "      <td>False</td>\n",
              "      <td>False</td>\n",
              "    </tr>\n",
              "    <tr>\n",
              "      <th>1</th>\n",
              "      <td>False</td>\n",
              "      <td>False</td>\n",
              "      <td>False</td>\n",
              "      <td>False</td>\n",
              "      <td>False</td>\n",
              "      <td>False</td>\n",
              "      <td>False</td>\n",
              "      <td>False</td>\n",
              "      <td>False</td>\n",
              "      <td>False</td>\n",
              "      <td>False</td>\n",
              "      <td>False</td>\n",
              "      <td>False</td>\n",
              "    </tr>\n",
              "    <tr>\n",
              "      <th>2</th>\n",
              "      <td>False</td>\n",
              "      <td>False</td>\n",
              "      <td>False</td>\n",
              "      <td>False</td>\n",
              "      <td>False</td>\n",
              "      <td>False</td>\n",
              "      <td>False</td>\n",
              "      <td>False</td>\n",
              "      <td>False</td>\n",
              "      <td>False</td>\n",
              "      <td>False</td>\n",
              "      <td>False</td>\n",
              "      <td>False</td>\n",
              "    </tr>\n",
              "    <tr>\n",
              "      <th>3</th>\n",
              "      <td>False</td>\n",
              "      <td>False</td>\n",
              "      <td>False</td>\n",
              "      <td>False</td>\n",
              "      <td>False</td>\n",
              "      <td>False</td>\n",
              "      <td>False</td>\n",
              "      <td>False</td>\n",
              "      <td>False</td>\n",
              "      <td>False</td>\n",
              "      <td>False</td>\n",
              "      <td>False</td>\n",
              "      <td>False</td>\n",
              "    </tr>\n",
              "    <tr>\n",
              "      <th>4</th>\n",
              "      <td>False</td>\n",
              "      <td>False</td>\n",
              "      <td>False</td>\n",
              "      <td>False</td>\n",
              "      <td>False</td>\n",
              "      <td>False</td>\n",
              "      <td>False</td>\n",
              "      <td>False</td>\n",
              "      <td>False</td>\n",
              "      <td>False</td>\n",
              "      <td>False</td>\n",
              "      <td>False</td>\n",
              "      <td>False</td>\n",
              "    </tr>\n",
              "    <tr>\n",
              "      <th>...</th>\n",
              "      <td>...</td>\n",
              "      <td>...</td>\n",
              "      <td>...</td>\n",
              "      <td>...</td>\n",
              "      <td>...</td>\n",
              "      <td>...</td>\n",
              "      <td>...</td>\n",
              "      <td>...</td>\n",
              "      <td>...</td>\n",
              "      <td>...</td>\n",
              "      <td>...</td>\n",
              "      <td>...</td>\n",
              "      <td>...</td>\n",
              "    </tr>\n",
              "    <tr>\n",
              "      <th>23519</th>\n",
              "      <td>False</td>\n",
              "      <td>False</td>\n",
              "      <td>False</td>\n",
              "      <td>False</td>\n",
              "      <td>False</td>\n",
              "      <td>False</td>\n",
              "      <td>False</td>\n",
              "      <td>False</td>\n",
              "      <td>False</td>\n",
              "      <td>False</td>\n",
              "      <td>False</td>\n",
              "      <td>False</td>\n",
              "      <td>False</td>\n",
              "    </tr>\n",
              "    <tr>\n",
              "      <th>23520</th>\n",
              "      <td>False</td>\n",
              "      <td>False</td>\n",
              "      <td>False</td>\n",
              "      <td>False</td>\n",
              "      <td>False</td>\n",
              "      <td>False</td>\n",
              "      <td>False</td>\n",
              "      <td>False</td>\n",
              "      <td>False</td>\n",
              "      <td>False</td>\n",
              "      <td>False</td>\n",
              "      <td>False</td>\n",
              "      <td>False</td>\n",
              "    </tr>\n",
              "    <tr>\n",
              "      <th>23521</th>\n",
              "      <td>False</td>\n",
              "      <td>False</td>\n",
              "      <td>False</td>\n",
              "      <td>False</td>\n",
              "      <td>False</td>\n",
              "      <td>False</td>\n",
              "      <td>False</td>\n",
              "      <td>False</td>\n",
              "      <td>False</td>\n",
              "      <td>False</td>\n",
              "      <td>False</td>\n",
              "      <td>False</td>\n",
              "      <td>False</td>\n",
              "    </tr>\n",
              "    <tr>\n",
              "      <th>23522</th>\n",
              "      <td>False</td>\n",
              "      <td>False</td>\n",
              "      <td>False</td>\n",
              "      <td>False</td>\n",
              "      <td>False</td>\n",
              "      <td>False</td>\n",
              "      <td>False</td>\n",
              "      <td>False</td>\n",
              "      <td>False</td>\n",
              "      <td>False</td>\n",
              "      <td>False</td>\n",
              "      <td>False</td>\n",
              "      <td>False</td>\n",
              "    </tr>\n",
              "    <tr>\n",
              "      <th>23523</th>\n",
              "      <td>False</td>\n",
              "      <td>False</td>\n",
              "      <td>False</td>\n",
              "      <td>False</td>\n",
              "      <td>False</td>\n",
              "      <td>False</td>\n",
              "      <td>False</td>\n",
              "      <td>False</td>\n",
              "      <td>False</td>\n",
              "      <td>False</td>\n",
              "      <td>False</td>\n",
              "      <td>False</td>\n",
              "      <td>False</td>\n",
              "    </tr>\n",
              "  </tbody>\n",
              "</table>\n",
              "<p>23524 rows × 13 columns</p>\n",
              "</div>"
            ],
            "text/plain": [
              "       country   year  ...  level_of_educuation  type_of_Job\n",
              "0        False  False  ...                False        False\n",
              "1        False  False  ...                False        False\n",
              "2        False  False  ...                False        False\n",
              "3        False  False  ...                False        False\n",
              "4        False  False  ...                False        False\n",
              "...        ...    ...  ...                  ...          ...\n",
              "23519    False  False  ...                False        False\n",
              "23520    False  False  ...                False        False\n",
              "23521    False  False  ...                False        False\n",
              "23522    False  False  ...                False        False\n",
              "23523    False  False  ...                False        False\n",
              "\n",
              "[23524 rows x 13 columns]"
            ]
          },
          "metadata": {
            "tags": []
          },
          "execution_count": 59
        }
      ]
    },
    {
      "cell_type": "code",
      "metadata": {
        "colab": {
          "base_uri": "https://localhost:8080/"
        },
        "id": "FRrXdRvwG4LB",
        "outputId": "0e6c4066-f026-42aa-b5a7-0e43c339ab80"
      },
      "source": [
        "#checking the sum of the missing data\n",
        "\n",
        "financial_df.isnull().sum()"
      ],
      "execution_count": 60,
      "outputs": [
        {
          "output_type": "execute_result",
          "data": {
            "text/plain": [
              "country                       14\n",
              "year                           0\n",
              "unique_id                      0\n",
              "bank_account                  36\n",
              "location                      15\n",
              "cell_phone_access             11\n",
              "household_size                28\n",
              "respondent_age                34\n",
              "respondent_gender             34\n",
              "the_relationship_with_head     4\n",
              "marital_status                32\n",
              "level_of_educuation           29\n",
              "type_of_Job                   30\n",
              "dtype: int64"
            ]
          },
          "metadata": {
            "tags": []
          },
          "execution_count": 60
        }
      ]
    },
    {
      "cell_type": "code",
      "metadata": {
        "colab": {
          "base_uri": "https://localhost:8080/"
        },
        "id": "-KiBp6NsPa37",
        "outputId": "040deefc-fa20-4996-efeb-a523af20e699"
      },
      "source": [
        "#dropping null values\n",
        "financial_df.dropna(how='any').shape"
      ],
      "execution_count": 61,
      "outputs": [
        {
          "output_type": "execute_result",
          "data": {
            "text/plain": [
              "(23343, 13)"
            ]
          },
          "metadata": {
            "tags": []
          },
          "execution_count": 61
        }
      ]
    },
    {
      "cell_type": "code",
      "metadata": {
        "colab": {
          "base_uri": "https://localhost:8080/",
          "height": 297
        },
        "id": "Tw4DlGPkf-cw",
        "outputId": "c05aec9e-4537-4188-99ba-b1717533c459"
      },
      "source": [
        "financial_df.describe()"
      ],
      "execution_count": 62,
      "outputs": [
        {
          "output_type": "execute_result",
          "data": {
            "text/html": [
              "<div>\n",
              "<style scoped>\n",
              "    .dataframe tbody tr th:only-of-type {\n",
              "        vertical-align: middle;\n",
              "    }\n",
              "\n",
              "    .dataframe tbody tr th {\n",
              "        vertical-align: top;\n",
              "    }\n",
              "\n",
              "    .dataframe thead th {\n",
              "        text-align: right;\n",
              "    }\n",
              "</style>\n",
              "<table border=\"1\" class=\"dataframe\">\n",
              "  <thead>\n",
              "    <tr style=\"text-align: right;\">\n",
              "      <th></th>\n",
              "      <th>year</th>\n",
              "      <th>household_size</th>\n",
              "      <th>respondent_age</th>\n",
              "    </tr>\n",
              "  </thead>\n",
              "  <tbody>\n",
              "    <tr>\n",
              "      <th>count</th>\n",
              "      <td>23524.000000</td>\n",
              "      <td>23496.000000</td>\n",
              "      <td>23490.000000</td>\n",
              "    </tr>\n",
              "    <tr>\n",
              "      <th>mean</th>\n",
              "      <td>2016.979000</td>\n",
              "      <td>3.681818</td>\n",
              "      <td>38.804300</td>\n",
              "    </tr>\n",
              "    <tr>\n",
              "      <th>std</th>\n",
              "      <td>0.899669</td>\n",
              "      <td>2.279933</td>\n",
              "      <td>16.519996</td>\n",
              "    </tr>\n",
              "    <tr>\n",
              "      <th>min</th>\n",
              "      <td>2016.000000</td>\n",
              "      <td>0.000000</td>\n",
              "      <td>16.000000</td>\n",
              "    </tr>\n",
              "    <tr>\n",
              "      <th>25%</th>\n",
              "      <td>2016.000000</td>\n",
              "      <td>2.000000</td>\n",
              "      <td>26.000000</td>\n",
              "    </tr>\n",
              "    <tr>\n",
              "      <th>50%</th>\n",
              "      <td>2017.000000</td>\n",
              "      <td>3.000000</td>\n",
              "      <td>35.000000</td>\n",
              "    </tr>\n",
              "    <tr>\n",
              "      <th>75%</th>\n",
              "      <td>2018.000000</td>\n",
              "      <td>5.000000</td>\n",
              "      <td>49.000000</td>\n",
              "    </tr>\n",
              "    <tr>\n",
              "      <th>max</th>\n",
              "      <td>2056.000000</td>\n",
              "      <td>21.000000</td>\n",
              "      <td>100.000000</td>\n",
              "    </tr>\n",
              "  </tbody>\n",
              "</table>\n",
              "</div>"
            ],
            "text/plain": [
              "               year  household_size  respondent_age\n",
              "count  23524.000000    23496.000000    23490.000000\n",
              "mean    2016.979000        3.681818       38.804300\n",
              "std        0.899669        2.279933       16.519996\n",
              "min     2016.000000        0.000000       16.000000\n",
              "25%     2016.000000        2.000000       26.000000\n",
              "50%     2017.000000        3.000000       35.000000\n",
              "75%     2018.000000        5.000000       49.000000\n",
              "max     2056.000000       21.000000      100.000000"
            ]
          },
          "metadata": {
            "tags": []
          },
          "execution_count": 62
        }
      ]
    },
    {
      "cell_type": "markdown",
      "metadata": {
        "id": "2a_JjCgDd57m"
      },
      "source": [
        "**EXPLORATORY ANALYSIS**"
      ]
    },
    {
      "cell_type": "code",
      "metadata": {
        "colab": {
          "base_uri": "https://localhost:8080/",
          "height": 585
        },
        "id": "C7A9tOYWQdVG",
        "outputId": "7eab0181-2005-4822-bcd4-e90fd8980cb6"
      },
      "source": [
        "#checking for outliers\n",
        "\n",
        "fig, (ax1, ax2)= plt.subplots(2,figsize=(10, 7))\n",
        "fig.suptitle('Boxplots')\n",
        "sns.boxplot(financial_df['household_size'], ax=ax1)\n",
        "sns.boxplot(financial_df['respondent_age'], ax=ax2)\n",
        "plt.show()"
      ],
      "execution_count": 63,
      "outputs": [
        {
          "output_type": "stream",
          "text": [
            "/usr/local/lib/python3.7/dist-packages/seaborn/_decorators.py:43: FutureWarning: Pass the following variable as a keyword arg: x. From version 0.12, the only valid positional argument will be `data`, and passing other arguments without an explicit keyword will result in an error or misinterpretation.\n",
            "  FutureWarning\n",
            "/usr/local/lib/python3.7/dist-packages/seaborn/_decorators.py:43: FutureWarning: Pass the following variable as a keyword arg: x. From version 0.12, the only valid positional argument will be `data`, and passing other arguments without an explicit keyword will result in an error or misinterpretation.\n",
            "  FutureWarning\n"
          ],
          "name": "stderr"
        },
        {
          "output_type": "display_data",
          "data": {
            "image/png": "[encoded data removed]",
            "text/plain": [
              "<Figure size 720x504 with 2 Axes>"
            ]
          },
          "metadata": {
            "tags": [],
            "needs_background": "light"
          }
        }
      ]
    },
    {
      "cell_type": "code",
      "metadata": {
        "colab": {
          "base_uri": "https://localhost:8080/"
        },
        "id": "Pnv-F0Xfi5zm",
        "outputId": "52694b53-45d1-4291-eec2-5c718a56741d"
      },
      "source": [
        "#checking for anomalies using IQR\n",
        "\n",
        "q1_household = financial_df['household_size'].quantile(.25)\n",
        "q3_household = financial_df['household_size'].quantile(.75)\n",
        "\n",
        "iqr_household = q3_household - q1_household\n",
        "\n",
        "q1_respondent = financial_df['respondent_age'].quantile(.25)\n",
        "q3_respondent = financial_df['respondent_age'].quantile(.75)\n",
        "\n",
        "iqr_respondent = q3_respondent - q1_respondent\n",
        "\n",
        "print(iqr_household, iqr_respondent)\n"
      ],
      "execution_count": 64,
      "outputs": [
        {
          "output_type": "stream",
          "text": [
            "3.0 23.0\n"
          ],
          "name": "stdout"
        }
      ]
    },
    {
      "cell_type": "code",
      "metadata": {
        "colab": {
          "base_uri": "https://localhost:8080/",
          "height": 339
        },
        "id": "EZCr6Iq8dg-A",
        "outputId": "d7fee08d-8b5a-41a7-8f98-7b6c60a92db5"
      },
      "source": [
        "#checking for anomalies\n",
        "\n",
        "financial_df.boxplot(column=['household_size', 'respondent_age'])\n",
        "\n"
      ],
      "execution_count": 65,
      "outputs": [
        {
          "output_type": "stream",
          "text": [
            "/usr/local/lib/python3.7/dist-packages/numpy/core/_asarray.py:83: VisibleDeprecationWarning: Creating an ndarray from ragged nested sequences (which is a list-or-tuple of lists-or-tuples-or ndarrays with different lengths or shapes) is deprecated. If you meant to do this, you must specify 'dtype=object' when creating the ndarray\n",
            "  return array(a, dtype, copy=False, order=order)\n"
          ],
          "name": "stderr"
        },
        {
          "output_type": "execute_result",
          "data": {
            "text/plain": [
              "<matplotlib.axes._subplots.AxesSubplot at 0x7fd80cf52a10>"
            ]
          },
          "metadata": {
            "tags": []
          },
          "execution_count": 65
        },
        {
          "output_type": "display_data",
          "data": {
            "image/png": "[encoded data removed]",
            "text/plain": [
              "<Figure size 432x288 with 1 Axes>"
            ]
          },
          "metadata": {
            "tags": [],
            "needs_background": "light"
          }
        }
      ]
    },
    {
      "cell_type": "code",
      "metadata": {
        "colab": {
          "base_uri": "https://localhost:8080/"
        },
        "id": "uykVebwEmXeH",
        "outputId": "e446a62c-5cf7-4e80-c1ff-643d8d08506d"
      },
      "source": [
        "#Generating a frequency table from the categorical data from the financial dataset for respondent gender\n",
        "\n",
        "\n",
        "financial_df.respondent_gender.value_counts()\n",
        "\n"
      ],
      "execution_count": 67,
      "outputs": [
        {
          "output_type": "execute_result",
          "data": {
            "text/plain": [
              "Female    13859\n",
              "Male       9631\n",
              "Name: respondent_gender, dtype: int64"
            ]
          },
          "metadata": {
            "tags": []
          },
          "execution_count": 67
        }
      ]
    },
    {
      "cell_type": "code",
      "metadata": {
        "colab": {
          "base_uri": "https://localhost:8080/"
        },
        "id": "xoOErti0h3OT",
        "outputId": "e4a58062-42f4-4d05-b467-b764362cb526"
      },
      "source": [
        "#frequency distribution for respondent age\n",
        "financial_df.respondent_age.value_counts()"
      ],
      "execution_count": 68,
      "outputs": [
        {
          "output_type": "execute_result",
          "data": {
            "text/plain": [
              "30.0     1052\n",
              "35.0      834\n",
              "25.0      790\n",
              "28.0      747\n",
              "32.0      714\n",
              "         ... \n",
              "100.0       5\n",
              "93.0        4\n",
              "96.0        3\n",
              "99.0        2\n",
              "97.0        1\n",
              "Name: respondent_age, Length: 85, dtype: int64"
            ]
          },
          "metadata": {
            "tags": []
          },
          "execution_count": 68
        }
      ]
    },
    {
      "cell_type": "code",
      "metadata": {
        "colab": {
          "base_uri": "https://localhost:8080/"
        },
        "id": "WLSy_O7AAW6Q",
        "outputId": "ae809228-d311-41ec-c3cf-19c3b8f01e45"
      },
      "source": [
        "#frequency distribution for household size\n",
        "financial_df.household_size.value_counts()"
      ],
      "execution_count": 69,
      "outputs": [
        {
          "output_type": "execute_result",
          "data": {
            "text/plain": [
              "2.0     5132\n",
              "1.0     3967\n",
              "3.0     3535\n",
              "4.0     3211\n",
              "5.0     2727\n",
              "6.0     2031\n",
              "7.0     1383\n",
              "8.0      741\n",
              "9.0      356\n",
              "10.0     192\n",
              "12.0      66\n",
              "11.0      66\n",
              "0.0       36\n",
              "13.0      25\n",
              "15.0      11\n",
              "14.0       9\n",
              "16.0       4\n",
              "18.0       1\n",
              "20.0       1\n",
              "21.0       1\n",
              "17.0       1\n",
              "Name: household_size, dtype: int64"
            ]
          },
          "metadata": {
            "tags": []
          },
          "execution_count": 69
        }
      ]
    },
    {
      "cell_type": "code",
      "metadata": {
        "colab": {
          "base_uri": "https://localhost:8080/"
        },
        "id": "dK3jKvBxCM70",
        "outputId": "09b96b9f-7912-4799-b2cf-c77b09c2cadd"
      },
      "source": [
        "#finding the measures of central tendency for respondent age column\n",
        "print(f\"age mean    :{financial_df['respondent_age'].mean()}\")\n",
        "print(f\"age median  :{financial_df['respondent_age'].median()}\")\n",
        "print(f\"age mode    :{financial_df['respondent_age'].mode()}\")\n",
        "print(f\"age max     :{financial_df['respondent_age'].max()}\")\n",
        "print(f\"age min     :{financial_df['respondent_age'].min()}\")"
      ],
      "execution_count": 70,
      "outputs": [
        {
          "output_type": "stream",
          "text": [
            "age mean    :38.804299702000854\n",
            "age median  :35.0\n",
            "age mode    :0    30.0\n",
            "dtype: float64\n",
            "age max     :100.0\n",
            "age min     :16.0\n"
          ],
          "name": "stdout"
        }
      ]
    },
    {
      "cell_type": "code",
      "metadata": {
        "colab": {
          "base_uri": "https://localhost:8080/"
        },
        "id": "WNZYRb5ND7_a",
        "outputId": "673b328f-b5ae-4fec-d2f6-996975cebbb3"
      },
      "source": [
        "#finding the measures of central tendency for household size column\n",
        "print(f\"household size mean   :{financial_df['household_size'].mean()}\")\n",
        "print(f\"household size median :{financial_df['household_size'].median()}\")\n",
        "print(f\"household size mode   :{financial_df['household_size'].mode()}\")\n",
        "print(f\"household size min    :{financial_df['household_size'].min()}\")\n",
        "print(f\"household size max    :{financial_df['household_size'].max()}\")"
      ],
      "execution_count": 71,
      "outputs": [
        {
          "output_type": "stream",
          "text": [
            "household size mean   :3.6818181818181817\n",
            "household size median :3.0\n",
            "household size mode   :0    2.0\n",
            "dtype: float64\n",
            "household size min    :0.0\n",
            "household size max    :21.0\n"
          ],
          "name": "stdout"
        }
      ]
    },
    {
      "cell_type": "code",
      "metadata": {
        "colab": {
          "base_uri": "https://localhost:8080/",
          "height": 353
        },
        "id": "Jtc52Tif7_JU",
        "outputId": "7481f4e9-876f-446e-eab5-b6cd7df49bb5"
      },
      "source": [
        "#creating the visualization for respond_age using a box plot\n",
        "sns.boxplot(financial_df[\"respondent_age\"], showmeans=True)"
      ],
      "execution_count": 72,
      "outputs": [
        {
          "output_type": "stream",
          "text": [
            "/usr/local/lib/python3.7/dist-packages/seaborn/_decorators.py:43: FutureWarning: Pass the following variable as a keyword arg: x. From version 0.12, the only valid positional argument will be `data`, and passing other arguments without an explicit keyword will result in an error or misinterpretation.\n",
            "  FutureWarning\n"
          ],
          "name": "stderr"
        },
        {
          "output_type": "execute_result",
          "data": {
            "text/plain": [
              "<matplotlib.axes._subplots.AxesSubplot at 0x7fd80ce64390>"
            ]
          },
          "metadata": {
            "tags": []
          },
          "execution_count": 72
        },
        {
          "output_type": "display_data",
          "data": {
            "image/png": "[encoded data removed]",
            "text/plain": [
              "<Figure size 432x288 with 1 Axes>"
            ]
          },
          "metadata": {
            "tags": [],
            "needs_background": "light"
          }
        }
      ]
    },
    {
      "cell_type": "code",
      "metadata": {
        "colab": {
          "base_uri": "https://localhost:8080/",
          "height": 353
        },
        "id": "ThAKtrBm9J6j",
        "outputId": "d049fd70-3a19-4712-d2c4-f48d7ee60d15"
      },
      "source": [
        "#showing the visualization of household_size using a boxplox\n",
        "sns.boxplot(financial_df[\"household_size\"], showmeans=True)"
      ],
      "execution_count": 73,
      "outputs": [
        {
          "output_type": "stream",
          "text": [
            "/usr/local/lib/python3.7/dist-packages/seaborn/_decorators.py:43: FutureWarning: Pass the following variable as a keyword arg: x. From version 0.12, the only valid positional argument will be `data`, and passing other arguments without an explicit keyword will result in an error or misinterpretation.\n",
            "  FutureWarning\n"
          ],
          "name": "stderr"
        },
        {
          "output_type": "execute_result",
          "data": {
            "text/plain": [
              "<matplotlib.axes._subplots.AxesSubplot at 0x7fd80ce4fa90>"
            ]
          },
          "metadata": {
            "tags": []
          },
          "execution_count": 73
        },
        {
          "output_type": "display_data",
          "data": {
            "image/png": "[encoded data removed]",
            "text/plain": [
              "<Figure size 432x288 with 1 Axes>"
            ]
          },
          "metadata": {
            "tags": [],
            "needs_background": "light"
          }
        }
      ]
    },
    {
      "cell_type": "code",
      "metadata": {
        "colab": {
          "base_uri": "https://localhost:8080/",
          "height": 318
        },
        "id": "6alJiCLxKXLF",
        "outputId": "c401ea75-37ef-4256-aa6e-aeca24b68375"
      },
      "source": [
        "#plotting the univariate summaries of respondents age\n",
        "plt.hist(financial_df['respondent_age'],bins=5, rwidth=0.9)"
      ],
      "execution_count": 74,
      "outputs": [
        {
          "output_type": "execute_result",
          "data": {
            "text/plain": [
              "(array([10273.,  7483.,  3890.,  1603.,   241.]),\n",
              " array([ 16. ,  32.8,  49.6,  66.4,  83.2, 100. ]),\n",
              " <a list of 5 Patch objects>)"
            ]
          },
          "metadata": {
            "tags": []
          },
          "execution_count": 74
        },
        {
          "output_type": "display_data",
          "data": {
            "image/png": "[encoded data removed]",
            "text/plain": [
              "<Figure size 432x288 with 1 Axes>"
            ]
          },
          "metadata": {
            "tags": [],
            "needs_background": "light"
          }
        }
      ]
    },
    {
      "cell_type": "code",
      "metadata": {
        "colab": {
          "base_uri": "https://localhost:8080/",
          "height": 318
        },
        "id": "OyIYHhmpK1DW",
        "outputId": "add52c9b-01a3-444e-d2bb-dad5545cd006"
      },
      "source": [
        "#plotting the univariate summaries of household size\n",
        "plt.hist(financial_df['household_size'],bins=5, rwidth=0.9)"
      ],
      "execution_count": 75,
      "outputs": [
        {
          "output_type": "execute_result",
          "data": {
            "text/plain": [
              "(array([1.5881e+04, 6.8820e+03, 6.8000e+02, 4.9000e+01, 4.0000e+00]),\n",
              " array([ 0. ,  4.2,  8.4, 12.6, 16.8, 21. ]),\n",
              " <a list of 5 Patch objects>)"
            ]
          },
          "metadata": {
            "tags": []
          },
          "execution_count": 75
        },
        {
          "output_type": "display_data",
          "data": {
            "image/png": "[encoded data removed]",
            "text/plain": [
              "<Figure size 432x288 with 1 Axes>"
            ]
          },
          "metadata": {
            "tags": [],
            "needs_background": "light"
          }
        }
      ]
    },
    {
      "cell_type": "code",
      "metadata": {
        "colab": {
          "base_uri": "https://localhost:8080/",
          "height": 296
        },
        "id": "L-62v78PkiXH",
        "outputId": "6b742713-d5f6-410c-b631-e4421bd92063"
      },
      "source": [
        "\n",
        "\n",
        "# Using Seaborn: Using the function regplot to create our scatterplot for household size vs respondent age\n",
        "\n",
        "sns.regplot(x = financial_df[\"respondent_age\"], y = financial_df[\"household_size\"], fit_reg=False)\n",
        "\n",
        "# Giving our scatterplot a title\n",
        "plt.title('Household size vs respondent age')\n",
        "\n",
        "# Labelling our x axis\n",
        "plt.xlabel('respondent_age')\n",
        "\n",
        "# Labelling our y axis\n",
        "plt.ylabel('household_size')\n",
        "\n",
        "# We then display our scatterplot\n",
        "plt.show()\n",
        "\n"
      ],
      "execution_count": 76,
      "outputs": [
        {
          "output_type": "display_data",
          "data": {
            "image/png": "[encoded data removed]",
            "text/plain": [
              "<Figure size 432x288 with 1 Axes>"
            ]
          },
          "metadata": {
            "tags": [],
            "needs_background": "light"
          }
        }
      ]
    },
    {
      "cell_type": "code",
      "metadata": {
        "colab": {
          "base_uri": "https://localhost:8080/"
        },
        "id": "AyOxyzbLV01t",
        "outputId": "185f8535-a6b9-4ebc-b030-96443e0d5807"
      },
      "source": [
        "\n",
        "# Calculating the pearson coefficient\n",
        "pearson_coeff = financial_df[\"household_size\"].corr(financial_df[\"respondent_age\"], method=\"pearson\") \n",
        "print(pearson_coeff)\n",
        "\n",
        "coeff = financial_df[\"household_size\"].corr(financial_df[\"respondent_age\"])\n",
        "print(coeff)"
      ],
      "execution_count": 77,
      "outputs": [
        {
          "output_type": "stream",
          "text": [
            "-0.11970929714642327\n",
            "-0.11970929714642327\n"
          ],
          "name": "stdout"
        }
      ]
    },
    {
      "cell_type": "code",
      "metadata": {
        "colab": {
          "base_uri": "https://localhost:8080/"
        },
        "id": "CF30VyzXXQvJ",
        "outputId": "857f976e-ff97-4352-e94d-3fe4e9199b3d"
      },
      "source": [
        "\n",
        "#calculating the correlation coefficient\n",
        "financial_df[\"respondent_age\"].corr(financial_df[\"household_size\"])\n",
        "print(coeff)\n"
      ],
      "execution_count": 78,
      "outputs": [
        {
          "output_type": "stream",
          "text": [
            "-0.11970929714642327\n"
          ],
          "name": "stdout"
        }
      ]
    },
    {
      "cell_type": "code",
      "metadata": {
        "id": "wT1WvUuQX9oN",
        "colab": {
          "base_uri": "https://localhost:8080/",
          "height": 318
        },
        "outputId": "b624a116-7fcc-478c-a5d7-7eb273b1b039"
      },
      "source": [
        "#a stacked bar graph showing individuals with a bank account per location based on gender\n",
        "financial_df.groupby(\"location\")['bank_account'].value_counts().unstack().plot.bar(stacked=True)"
      ],
      "execution_count": 80,
      "outputs": [
        {
          "output_type": "execute_result",
          "data": {
            "text/plain": [
              "<matplotlib.axes._subplots.AxesSubplot at 0x7fd80ccfc810>"
            ]
          },
          "metadata": {
            "tags": []
          },
          "execution_count": 80
        },
        {
          "output_type": "display_data",
          "data": {
            "image/png": "[encoded data removed]",
            "text/plain": [
              "<Figure size 432x288 with 1 Axes>"
            ]
          },
          "metadata": {
            "tags": [],
            "needs_background": "light"
          }
        }
      ]
    },
    {
      "cell_type": "code",
      "metadata": {
        "id": "SLGgiuFVTrN7"
      },
      "source": [
        "\n",
        "financial_df.groupby(\"bank_account\")['country'].value_counts().unstack().plot.bar(stacked=True)"
      ],
      "execution_count": null,
      "outputs": []
    },
    {
      "cell_type": "code",
      "metadata": {
        "colab": {
          "base_uri": "https://localhost:8080/",
          "height": 304
        },
        "id": "94ZJbaPOuZ1I",
        "outputId": "4f712d39-a69f-4554-f960-e1ae0e2b2a05"
      },
      "source": [
        "#stacked bar chart showing individuals with a bank account per country\n",
        "financial_df.groupby(\"bank_account\")['country'].value_counts().unstack().plot.bar(stacked=True)"
      ],
      "execution_count": 81,
      "outputs": [
        {
          "output_type": "execute_result",
          "data": {
            "text/plain": [
              "<matplotlib.axes._subplots.AxesSubplot at 0x7fd80cc12a10>"
            ]
          },
          "metadata": {
            "tags": []
          },
          "execution_count": 81
        },
        {
          "output_type": "display_data",
          "data": {
            "image/png": "[encoded data removed]",
            "text/plain": [
              "<Figure size 432x288 with 1 Axes>"
            ]
          },
          "metadata": {
            "tags": [],
            "needs_background": "light"
          }
        }
      ]
    },
    {
      "cell_type": "code",
      "metadata": {
        "colab": {
          "base_uri": "https://localhost:8080/",
          "height": 324
        },
        "id": "o-165iodvUTr",
        "outputId": "9040fa31-c618-499f-c18d-1c8e220c9fc7"
      },
      "source": [
        "\n",
        "financial_df.groupby(\"respondent_gender\")['bank_account'].value_counts().unstack().plot.bar(stacked=True)\n"
      ],
      "execution_count": 100,
      "outputs": [
        {
          "output_type": "execute_result",
          "data": {
            "text/plain": [
              "<matplotlib.axes._subplots.AxesSubplot at 0x7fd80c0bd190>"
            ]
          },
          "metadata": {
            "tags": []
          },
          "execution_count": 100
        },
        {
          "output_type": "display_data",
          "data": {
            "image/png": "[encoded data removed]",
            "text/plain": [
              "<Figure size 432x288 with 1 Axes>"
            ]
          },
          "metadata": {
            "tags": [],
            "needs_background": "light"
          }
        }
      ]
    },
    {
      "cell_type": "code",
      "metadata": {
        "id": "S_rdqOT0B8mT"
      },
      "source": [
        "df=financial_df.groupby(\"respondent_gender\")['bank_account'].value_counts()\n"
      ],
      "execution_count": 84,
      "outputs": []
    },
    {
      "cell_type": "code",
      "metadata": {
        "id": "r5qF5E8TEjnz"
      },
      "source": [
        "from scipy.stats import chi2_contingency"
      ],
      "execution_count": 85,
      "outputs": []
    },
    {
      "cell_type": "code",
      "metadata": {
        "colab": {
          "base_uri": "https://localhost:8080/"
        },
        "id": "l0vQxla0Ez6l",
        "outputId": "4d8b0088-fb7d-4747-8496-8347f545eb0c"
      },
      "source": [
        "chi2_contingency(df)"
      ],
      "execution_count": 86,
      "outputs": [
        {
          "output_type": "execute_result",
          "data": {
            "text/plain": [
              "(0.0, 1.0, 0, array([12356.,  1482.,  7793.,  1823.]))"
            ]
          },
          "metadata": {
            "tags": []
          },
          "execution_count": 86
        }
      ]
    },
    {
      "cell_type": "code",
      "metadata": {
        "colab": {
          "base_uri": "https://localhost:8080/"
        },
        "id": "fhjodzhjE-Fq",
        "outputId": "79bf66e2-e55d-42ff-d9eb-892d31ab46c0"
      },
      "source": [
        "df.head()"
      ],
      "execution_count": 87,
      "outputs": [
        {
          "output_type": "execute_result",
          "data": {
            "text/plain": [
              "respondent_gender  bank_account\n",
              "Female             No              12356\n",
              "                   Yes              1482\n",
              "Male               No               7793\n",
              "                   Yes              1823\n",
              "Name: bank_account, dtype: int64"
            ]
          },
          "metadata": {
            "tags": []
          },
          "execution_count": 87
        }
      ]
    },
    {
      "cell_type": "code",
      "metadata": {
        "colab": {
          "base_uri": "https://localhost:8080/",
          "height": 329
        },
        "id": "J579j_dBJ9fB",
        "outputId": "164d556b-a69b-4492-eb1a-b2353bac680a"
      },
      "source": [
        "\n",
        "\n",
        "df=pd.crosstab(index=[financial_df['country']],columns=[financial_df['bank_account'],financial_df['location']])\n",
        "df.plot.bar()\n",
        "plt.title('access to a bank account vs location per country')\n",
        "plt.ylabel('number of individuals')\n",
        "plt.show()"
      ],
      "execution_count": 98,
      "outputs": [
        {
          "output_type": "display_data",
          "data": {
            "image/png": "[encoded data removed]",
            "text/plain": [
              "<Figure size 432x288 with 1 Axes>"
            ]
          },
          "metadata": {
            "tags": [],
            "needs_background": "light"
          }
        }
      ]
    },
    {
      "cell_type": "markdown",
      "metadata": {
        "id": "zqAMvf9BNuqo"
      },
      "source": [
        "**CONCLUSION**"
      ]
    },
    {
      "cell_type": "markdown",
      "metadata": {
        "id": "sb_Ft5K2N6-t"
      },
      "source": [
        "From the analysis,we can see that the number of individuals without access to bank services is higher in rurals for all countries except in Tanzania where many people from urban had no access to bank services."
      ]
    },
    {
      "cell_type": "markdown",
      "metadata": {
        "id": "KQaG3uYIPvh9"
      },
      "source": [
        "Also,the number of people without bank accounts is higher in rural areas than in urban areas."
      ]
    },
    {
      "cell_type": "markdown",
      "metadata": {
        "id": "3ILJVxwASl45"
      },
      "source": [
        "Based on gender,more female had access to bank services compared to male."
      ]
    },
    {
      "cell_type": "markdown",
      "metadata": {
        "id": "e6IFIBLDSzYw"
      },
      "source": [
        "Kenya had many individuals with a bank account followed by Rwanda then Tanzania and Uganda with the least people with a bank account."
      ]
    }
  ]
}